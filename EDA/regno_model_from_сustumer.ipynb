{
 "cells": [
  {
   "cell_type": "markdown",
   "id": "1911c0c5",
   "metadata": {},
   "source": [
    "# Данные переданные заказчиком"
   ]
  },
  {
   "cell_type": "code",
   "execution_count": 2,
   "id": "1c3c743f",
   "metadata": {},
   "outputs": [
    {
     "name": "stdout",
     "output_type": "stream",
     "text": [
      "{'1': 0.9999861717224121, '6': 0.9999839067459106, 'А': 0.9999557733535767, 'В': 0.9999555349349976, 'К': 0.9999505281448364, '0': 0.999932050704956, '7': 0.5511531829833984, '2': 1, '3': 1, '4': 1, '5': 1, '8': 1, '9': 1, 'D': 1, 'Е': 1, 'М': 1, 'Н': 1, 'О': 1, 'Р': 1, 'С': 1, 'Т': 1, 'У': 1, 'Х': 1}\n",
      "\n",
      "['0', '1', '2', '3', '4', '5', '6', '7', '8', '9', 'D', 'afts_regno_ai_score', 'afts_regno_ai_text', 'ai_len', 'cam_len', 'camera_class', 'camera_type', 'direction', 'foreign_sym', 'hour', 'max_len_score', 'max_sym_score', 'min_sym_score', 'month', 'recognition_accuracy', 'regno_recognize_text', 'regno_template', 'regno_template_ai', 'weekday', 'А', 'В', 'Е', 'К', 'М', 'Н', 'О', 'Р', 'С', 'Т', 'У', 'Х']\n",
      "\n",
      "afts_regno_ai_score              0.549513\n",
      "direction                               0\n",
      "recognition_accuracy                 99.0\n",
      "max_sym_score                    0.999986\n",
      "min_sym_score                    0.551153\n",
      "max_len_score                    0.999994\n",
      "ai_len                                  9\n",
      "cam_len                                 9\n",
      "regno_recognize_text    А 0 1 6 В К 7 9 7\n",
      "afts_regno_ai_text      А 0 1 6 В К 7 7 7\n",
      "camera_type                  Стационарная\n",
      "camera_class                    Стрелка-М\n",
      "weekday                            Sunday\n",
      "month                              August\n",
      "hour                                   16\n",
      "regno_template                private car\n",
      "regno_template_ai             private car\n",
      "foreign_sym                          None\n",
      "1                                0.999986\n",
      "6                                0.999984\n",
      "А                                0.999956\n",
      "В                                0.999956\n",
      "К                                0.999951\n",
      "0                                0.999932\n",
      "7                                0.551153\n",
      "2                                       1\n",
      "3                                       1\n",
      "4                                       1\n",
      "5                                       1\n",
      "8                                       1\n",
      "9                                       1\n",
      "D                                       1\n",
      "Е                                       1\n",
      "М                                       1\n",
      "Н                                       1\n",
      "О                                       1\n",
      "Р                                       1\n",
      "С                                       1\n",
      "Т                                       1\n",
      "У                                       1\n",
      "Х                                       1\n",
      "dtype: object\n"
     ]
    },
    {
     "data": {
      "text/plain": [
       "array([0.43860729, 0.56139271])"
      ]
     },
     "execution_count": 2,
     "metadata": {},
     "output_type": "execute_result"
    }
   ],
   "source": [
    "import numpy as np\n",
    "import re\n",
    "import pandas as pd\n",
    "import calendar\n",
    "from catboost import CatBoostClassifier\n",
    "\n",
    "ai_sym =['0', '1', '2', '3', '4', '5', '6', '7', '8', '9', 'D', 'А', 'В', 'Е', 'К', 'М', 'Н', 'О', 'Р', 'С', 'Т', 'У', 'Х']\n",
    "old_cyrillic_sym = ['И', 'Й', 'Ц', 'Г', 'Ш', 'Щ', 'З', 'Ъ', 'Ф', 'Ы', 'П', 'Л', 'Д', 'Ж', 'Э', 'Я', 'Ч', 'Ь', 'Б', 'Ю']\n",
    "lat_sym = ['Q', 'W', 'R', 'Y', 'U', 'I', 'S', 'F', 'G', 'J', 'L', 'Z', 'V', 'N']\n",
    "\n",
    "def d(alist, blist):\n",
    "    zipped = (zip(alist, blist))\n",
    "    um1 = dict(sorted(zipped, key = lambda t: t[1], reverse = True))\n",
    "    return um1\n",
    "\n",
    "def get_ai_syms(nn_regno, nn_sym_scores):     \n",
    "    letters = d(nn_regno, nn_sym_scores)\n",
    "    for s in ai_sym:\n",
    "        if s not in letters:\n",
    "            letters[s] = 1    \n",
    "    return letters\n",
    "\n",
    "def regno_category(regno):\n",
    "      \n",
    "    \n",
    "    if re.fullmatch('^[А-Я]\\d{3}[А-Я]{2}\\d{2}(|\\d)$', regno) : return 'private car'\n",
    "    elif re.fullmatch('^[А-Я]{2}\\d{5}(|\\d)$', regno)  : return ' lk_taxi_r_pricep'\n",
    "    elif re.fullmatch('^[А-Я]{2}\\d{6}(|\\d)$', regno)  : return 'lk_pricep_r_transit'\n",
    "    elif re.fullmatch('^\\d{4}[А-Я]{2}\\d{2}(|\\d)$', regno)  : return 'lk_moto_tract'\n",
    "    elif re.fullmatch('^[А-Я]{1}\\d{4}[А-Я]{2}$', regno) : return 'some'\n",
    "    elif re.fullmatch('^[А-Я]{2}\\d{3}[А-Я]\\d{2}(|\\d)$', regno)  : return 'lk_transit'\n",
    "    elif re.fullmatch('^(T|Т)[А-Я]{2}\\d{5}(|\\d)$', regno) : return 'lk_export'\n",
    "    elif re.fullmatch('^[А-Я]\\d{6}(|\\d)$', regno) : return 'lk_mvd_avto'\n",
    "    elif re.fullmatch('^\\d{4}[А-Я]\\d{2}(|\\d)$', regno) : return 'lk_mvd_moto'\n",
    "    elif re.fullmatch('^\\d{3}[А-Я]\\d{2}(|\\d)$', regno) : return 'lk_mvd_pricep'\n",
    "    elif re.fullmatch('^\\d{3}(CD|СD|D|T|Т)\\d{3}(|\\d)(|\\d)(|\\d)$', regno) : return 'lk_diplomat'\n",
    "    elif re.fullmatch('^\\d{4}[А-Я]{2}\\d{2}(|\\d)$', regno): return 'lk_army'\n",
    "    else: return 'unknown'\n",
    "    \n",
    "    \n",
    "def count_foreign_syms(regno):\n",
    "    i = 0\n",
    "    for s in regno:\n",
    "        if s not in (ai_sym + old_cyrillic_sym + lat_sym):\n",
    "            i += 1\n",
    "\n",
    "def str_to_list(s):\n",
    "    if s != '[]':\n",
    "        s = s[1:-1].split(',')\n",
    "        return [float(i) for i in s]\n",
    "    else:\n",
    "        return [0]\n",
    "\n",
    "def pick_regno(camera_regno, nn_regno, camera_score, nn_score, nn_sym_scores, nn_len_scores, camera_type, camera_class, \n",
    "         time_check, direction, model_name):\n",
    "    # model_name - path to the model\n",
    "\n",
    "    x = {}\n",
    "    x['afts_regno_ai_score'] = nn_score\n",
    "    x['direction'] = direction\n",
    "    x['recognition_accuracy'] = camera_score\n",
    "\n",
    "    nn_sym_scores = str_to_list(nn_sym_scores)\n",
    "    nn_len_scores = str_to_list(nn_len_scores)\n",
    "    \n",
    "    x['max_sym_score'] = np.max(nn_sym_scores)\n",
    "    x['min_sym_score'] = np.min(nn_sym_scores)\n",
    "    x['max_len_score'] = np.max(nn_len_scores)\n",
    "    \n",
    "    x['ai_len'] = len(nn_regno)\n",
    "    x['cam_len'] = len(camera_regno)\n",
    "    \n",
    "    x['regno_recognize_text'] = ' '.join(camera_regno)\n",
    "    x['afts_regno_ai_text'] = ' '.join(nn_regno)\n",
    "    \n",
    "    x['camera_type'] = camera_type\n",
    "    x['camera_class'] = camera_class\n",
    "        \n",
    "    time_check = pd.to_datetime(time_check)\n",
    "    x['weekday'] = calendar.day_name[time_check.dayofweek]\n",
    "    x['month'] = calendar.month_name[time_check.month]\n",
    "    x['hour'] = time_check.hour\n",
    "    \n",
    "    x['regno_template'] = regno_category(camera_regno)\n",
    "    x['regno_template_ai'] = regno_category(nn_regno)\n",
    "\n",
    "\n",
    "    x['foreign_sym'] = count_foreign_syms(camera_regno)\n",
    "    #print(x)\n",
    "    \n",
    "    \n",
    "    letters = get_ai_syms(nn_regno, nn_sym_scores)\n",
    "    \n",
    "    \n",
    "    print(letters)\n",
    "    x.update(letters)\n",
    "    \n",
    "    d = \n",
    "    model = CatBoostClassifier()\n",
    "    model.load_model(model_name)\n",
    "    print()\n",
    "    print(sorted(model.feature_names_))\n",
    "    print()\n",
    "    print(pd.Series(x))\n",
    "    y = model.predict_proba(pd.Series(x)[model.feature_names_])\n",
    "    \n",
    "    return y\n",
    "df  = pd.read_csv('test_data.csv')\n",
    "pick_regno(*df.iloc[5].to_dict().values(), 'micromodel.cbm')\n"
   ]
  },
  {
   "cell_type": "code",
   "execution_count": 8,
   "id": "87d8aea2",
   "metadata": {},
   "outputs": [
    {
     "name": "stdout",
     "output_type": "stream",
     "text": [
      "А016ВК797 А016ВК777 99.0 0.5495133996009827 [0.9999557733535767, 0.999932050704956, 0.9999861717224121, 0.9999839067459106, 0.9999555349349976, 0.9999505281448364, 0.9979444146156311, 0.5511531829833984, 0.9993207454681396] [3.7013840881172655e-09, 3.725195485415611e-09, 3.7196645763515335e-09, 3.742908205595086e-09, 3.7187850576714254e-09, 3.7050780221647983e-09, 3.727455677449143e-09, 8.925088224032152e-09, 6.323071374936262e-06, 0.9999936819076538, 3.712293361601837e-09] Стационарная Стрелка-М 2021-08-01 16:18:32 0\n"
     ]
    }
   ],
   "source": [
    "print(*df.iloc[5].to_dict().values())\n"
   ]
  },
  {
   "cell_type": "code",
   "execution_count": null,
   "id": "bd2a307c",
   "metadata": {},
   "outputs": [],
   "source": [
    "payload = json.dumps({\n",
    "  \"regno_recognize\": \"А939НО196\",\n",
    "  \"afts_regno_ai\": \"А939НО190\",\n",
    "  \"recognition_accuracy\": 6.4,\n",
    "  \"afts_regno_ai_score\": 0.8689166903495789,\n",
    "  \"afts_regno_ai_char_scores\": \"[0.9998925924301147, 0.9999872446060181, 0.9999798536300659, 0.9999990463256836, 0.9988356232643127, 0.9998175501823425, 1.0, 0.999994158744812, 0.8702163696289062]\",\n",
    "  \"afts_regno_ai_length_scores\": \"[3.2404470773350624e-10, 3.236617363011618e-10, 3.2367283853140805e-10, 3.2651523151905337e-10, 3.234087164738497e-10, 3.259402747701756e-10, 3.2362224011706076e-10, 4.545459564297971e-09, 2.996458192683349e-08, 1.0, 3.2479344214131345e-10]\",\n",
    "  \"camera_type\": \"Стационарная\",\n",
    "  \"camera_class\": \"Астра-Трафик\",\n",
    "  \"time_check\": \"2021-08-01 09:02:59\",\n",
    "  \"direction\": 0\n",
    "})\n",
    "headers = {\n",
    "  'Content-Type': 'application/json',\n",
    "  'x-api-key': '123321'\n",
    "}\n",
    "\n",
    "\"\"\"Для применения функции повторного запроса требуется реализовать собственный транспортный адаптер.\"\"\"\n",
    "adapter = HTTPAdapter(max_retries=3)\n",
    "session = requests.Session()\n",
    "session.mount(url, adapter)"
   ]
  },
  {
   "cell_type": "code",
   "execution_count": 34,
   "id": "9d847934",
   "metadata": {},
   "outputs": [
    {
     "data": {
      "text/plain": [
       "{'regno_recognize': 'А939НО196',\n",
       " 'afts_regno_ai': 'А939НО190',\n",
       " 'recognition_accuracy': 6.4,\n",
       " 'afts_regno_ai_score': 0.8689166903495789,\n",
       " 'afts_regno_ai_char_scores': '[0.9998925924301147, 0.9999872446060181, 0.9999798536300659, 0.9999990463256836, 0.9988356232643127, 0.9998175501823425, 1.0, 0.999994158744812, 0.8702163696289062]',\n",
       " 'afts_regno_ai_length_scores': '[3.2404470773350624e-10, 3.236617363011618e-10, 3.2367283853140805e-10, 3.2651523151905337e-10, 3.234087164738497e-10, 3.259402747701756e-10, 3.2362224011706076e-10, 4.545459564297971e-09, 2.996458192683349e-08, 1.0, 3.2479344214131345e-10]',\n",
       " 'camera_type': 'Стационарная',\n",
       " 'camera_class': 'Астра-Трафик',\n",
       " 'time_check': '2021-08-01 09:02:59',\n",
       " 'direction': 0}"
      ]
     },
     "execution_count": 34,
     "metadata": {},
     "output_type": "execute_result"
    }
   ],
   "source": [
    "df['regno_recognize'].apply(regno_category).unique()\n",
    "d = df.iloc[0].to_dict()\n",
    "import json\n",
    "d = json.JSONEncoder().encode(d)\n",
    "json.JSONDecoder().decode(d)\n",
    "#print(json.JSONDecoder(d))"
   ]
  },
  {
   "cell_type": "code",
   "execution_count": 23,
   "id": "2432b1c5",
   "metadata": {},
   "outputs": [
    {
     "data": {
      "text/plain": [
       "'{\"regno_recognize\": \"А939НО196\", \"afts_regno_ai\": \"А939НО190\", \"recognition_accuracy\": \"6.4\", \"afts_regno_ai_score\": \"0.8689166903495789\", \"afts_regno_ai_char_scores\": \"[0.9998925924301147, 0.9999872446060181, 0.9999798536300659, 0.9999990463256836, 0.9988356232643127, 0.9998175501823425, 1.0, 0.999994158744812, 0.8702163696289062]\", \"afts_regno_ai_length_scores\": \"[3.2404470773350624e-10, 3.236617363011618e-10, 3.2367283853140805e-10, 3.2651523151905337e-10, 3.234087164738497e-10, 3.259402747701756e-10, 3.2362224011706076e-10, 4.545459564297971e-09, 2.996458192683349e-08, 1.0, 3.2479344214131345e-10]\", \"camera_type\": \"Стационарная\", \"camera_class\": \"Астра-Трафик\", \"time_check\": \"2021-08-01 09:02:59\", \"direction\": \"0\"}'"
      ]
     },
     "execution_count": 23,
     "metadata": {},
     "output_type": "execute_result"
    }
   ],
   "source": [
    "'{%s}' % ', '.join(['\"%s\": \"%s\"' % (k, v) for k, v in d.items()])"
   ]
  }
 ],
 "metadata": {
  "kernelspec": {
   "display_name": "local-venv",
   "language": "python",
   "name": "local-venv"
  },
  "language_info": {
   "codemirror_mode": {
    "name": "ipython",
    "version": 3
   },
   "file_extension": ".py",
   "mimetype": "text/x-python",
   "name": "python",
   "nbconvert_exporter": "python",
   "pygments_lexer": "ipython3",
   "version": "3.8.8"
  }
 },
 "nbformat": 4,
 "nbformat_minor": 5
}
